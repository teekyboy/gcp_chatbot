{
 "cells": [
  {
   "cell_type": "markdown",
   "id": "683953b3",
   "metadata": {},
   "source": [
    "# Pinecone\n",
    "\n",
    "This notebook shows how to use functionality related to the Pinecone vector database."
   ]
  },
  {
   "cell_type": "code",
   "execution_count": null,
   "id": "aac9563e",
   "metadata": {},
   "outputs": [],
   "source": [
    "from langchain.embeddings.openai import OpenAIEmbeddings\n",
    "from langchain.text_splitter import RecursiveCharacterTextSplitter\n",
    "from langchain.vectorstores import Pinecone\n",
    "from langchain.document_loaders import GCSDirectoryLoader\n",
    "from langchain.chains import RetrievalQA\n",
    "from langchain.llms import OpenAI\n",
    "import pinecone\n",
    "import os\n",
    "import configparser\n",
    "import pandas as pd\n",
    "from google.cloud import storage"
   ]
  },
  {
   "cell_type": "code",
   "execution_count": null,
   "id": "4f5e0b7b",
   "metadata": {},
   "outputs": [],
   "source": [
    "os.environ['GOOGLE_APPLICATION_CREDENTIALS'] = '/Users/teekyboy/code/gcp/chatbot-t1-firebase.json'"
   ]
  },
  {
   "cell_type": "code",
   "execution_count": null,
   "id": "b306a846",
   "metadata": {},
   "outputs": [],
   "source": [
    "config = configparser.ConfigParser()\n",
    "config.read('../config.ini')"
   ]
  },
  {
   "cell_type": "code",
   "execution_count": null,
   "id": "216df103",
   "metadata": {},
   "outputs": [],
   "source": [
    "OPENAI_API_KEY = config.get('api_key', 'openai')\n",
    "PINECONE_API_KEY = config.get('api_key', 'pinecone')\n",
    "PINECONE_ENV = config.get('env', 'pinecone')\n",
    "PINECONE_INDEX = config.get('index', 'pinecone')"
   ]
  },
  {
   "cell_type": "code",
   "execution_count": null,
   "id": "a3c3999a",
   "metadata": {},
   "outputs": [],
   "source": [
    "loader = GCSDirectoryLoader(project_name=\"chatbot\", bucket=\"chatbot-t1.appspot.com\", prefix=\"data/input\")\n",
    "documents = loader.load()\n",
    "text_splitter = RecursiveCharacterTextSplitter(chunk_size=200, chunk_overlap=20)\n",
    "docs = text_splitter.split_documents(documents)\n",
    "\n",
    "embeddings = OpenAIEmbeddings(openai_api_key=OPENAI_API_KEY)"
   ]
  },
  {
   "cell_type": "code",
   "execution_count": null,
   "id": "6e104aee",
   "metadata": {},
   "outputs": [],
   "source": [
    "pinecone.init(\n",
    "    api_key=PINECONE_API_KEY,\n",
    "    environment=PINECONE_ENV \n",
    ")\n",
    "\n",
    "index_name = PINECONE_INDEX\n",
    "\n",
    "db = Pinecone.from_documents(docs, embeddings, index_name=index_name)"
   ]
  },
  {
   "cell_type": "code",
   "execution_count": null,
   "id": "626f69ef",
   "metadata": {},
   "outputs": [],
   "source": [
    "# if you already have an index, you can load it like this\n",
    "# db = Pinecone.from_existing_index(index_name, embeddings)\n",
    "db = Pinecone.from_existing_index(index_name, embeddings)"
   ]
  },
  {
   "cell_type": "code",
   "execution_count": null,
   "id": "4f373eb2",
   "metadata": {},
   "outputs": [],
   "source": [
    "llm = OpenAI(temperature=0.5, openai_api_key=OPENAI_API_KEY)"
   ]
  },
  {
   "cell_type": "code",
   "execution_count": null,
   "id": "ee0fa12c",
   "metadata": {},
   "outputs": [],
   "source": [
    "qa = RetrievalQA.from_chain_type(llm=llm, chain_type=\"stuff\", retriever=db.as_retriever())"
   ]
  },
  {
   "cell_type": "code",
   "execution_count": null,
   "id": "9d059506",
   "metadata": {},
   "outputs": [],
   "source": [
    "query = \"What was Apple's most profitable product? give me some details.\"\n",
    "answer = qa.run(query)\n",
    "answer"
   ]
  },
  {
   "cell_type": "code",
   "execution_count": null,
   "id": "a359ed74",
   "metadata": {},
   "outputs": [],
   "source": [
    "def log_question_answer(query, answer):\n",
    "    prefix = 'data/output/'\n",
    "    log_file = f'{prefix}questions_answers.csv'\n",
    "    bucket_name = 'chatbot-t1.appspot.com'\n",
    "    data = {'question': [query], 'answer': [answer]}\n",
    "\n",
    "    df = pd.DataFrame(data)\n",
    "\n",
    "    # Initialize Google Cloud Storage client\n",
    "    storage_client = storage.Client()\n",
    "    bucket = storage_client.get_bucket(bucket_name)\n",
    "\n",
    "    # Check if the file exists in the bucket\n",
    "    blob = storage.Blob(log_file, bucket)\n",
    "    if blob.exists():\n",
    "        # Read the existing data and append the new data\n",
    "        content = blob.download_as_text()\n",
    "        existing_df = pd.read_csv(pd.StringIO(content))\n",
    "        new_df = existing_df.append(df, ignore_index=True)\n",
    "    else:\n",
    "        new_df = df\n",
    "\n",
    "    # Upload the updated data to Google Cloud Storage\n",
    "    new_content = new_df.to_csv(index=False)\n",
    "    blob.upload_from_string(new_content, content_type='text/csv')\n"
   ]
  },
  {
   "cell_type": "code",
   "execution_count": null,
   "id": "841229a7",
   "metadata": {},
   "outputs": [],
   "source": [
    "log_question_answer(query, answer)"
   ]
  },
  {
   "cell_type": "code",
   "execution_count": null,
   "id": "55f33167",
   "metadata": {},
   "outputs": [],
   "source": []
  }
 ],
 "metadata": {
  "kernelspec": {
   "display_name": "Python 3 (ipykernel)",
   "language": "python",
   "name": "python3"
  },
  "language_info": {
   "codemirror_mode": {
    "name": "ipython",
    "version": 3
   },
   "file_extension": ".py",
   "mimetype": "text/x-python",
   "name": "python",
   "nbconvert_exporter": "python",
   "pygments_lexer": "ipython3",
   "version": "3.10.6"
  }
 },
 "nbformat": 4,
 "nbformat_minor": 5
}
